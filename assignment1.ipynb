{
 "cells": [
  {
   "cell_type": "markdown",
   "metadata": {},
   "source": [
    "Question 1"
   ]
  },
  {
   "cell_type": "code",
   "execution_count": null,
   "metadata": {},
   "outputs": [],
   "source": [
    "for i in range(2000,3201):\n",
    "    if((i%7 == 0) & (i%5) != 0):\n",
    "        print (i)"
   ]
  },
  {
   "cell_type": "markdown",
   "metadata": {},
   "source": [
    "Question 2"
   ]
  },
  {
   "cell_type": "code",
   "execution_count": 108,
   "metadata": {},
   "outputs": [],
   "source": [
    "def reversed_name(name):\n",
    "    name = str(name)\n",
    "    space_pos = name.find(\" \")\n",
    "    first_name = name[0:(space_pos)]\n",
    "    last_name = name[(space_pos+1):(len(name)+1)]\n",
    "    \n",
    "    rev_first_name = first_name[::-1]\n",
    "    rev_last_name = last_name[::-1]\n",
    "    print(rev_first_name+\" \"+rev_last_name)\n",
    "    \n",
    "reversed_name(\"chayan dev\")    "
   ]
  },
  {
   "cell_type": "markdown",
   "metadata": {},
   "source": [
    "Altenative"
   ]
  },
  {
   "cell_type": "code",
   "execution_count": 113,
   "metadata": {},
   "outputs": [
    {
     "name": "stdout",
     "output_type": "stream",
     "text": [
      "nayahc ved\n"
     ]
    }
   ],
   "source": [
    "def reversed_name(name):\n",
    "    name = str(name)\n",
    "    first_name = name.split()[0]\n",
    "    last_name = name.split()[1]\n",
    "    \n",
    "    rev_first_name = first_name[::-1]\n",
    "    rev_last_name = last_name[::-1]\n",
    "    print(rev_first_name+\" \"+rev_last_name)\n",
    "    \n",
    "reversed_name(\"chayan dev\")    "
   ]
  },
  {
   "cell_type": "markdown",
   "metadata": {},
   "source": [
    "#dynamic"
   ]
  },
  {
   "cell_type": "code",
   "execution_count": 124,
   "metadata": {},
   "outputs": [
    {
     "name": "stdout",
     "output_type": "stream",
     "text": [
      " nayahc itnak ved ahtrap kasab natnayas eejrenab\n"
     ]
    }
   ],
   "source": [
    "def reversed_name(name):\n",
    "    name = str(name)\n",
    "    name_partition = name.split()\n",
    "    reversed_name = \"\"\n",
    "    for each_partition in name_partition:\n",
    "        rev_name_partition = each_partition[::-1]\n",
    "        reversed_name = reversed_name + \" \" + rev_name_partition \n",
    "        \n",
    "    print(reversed_name)\n",
    "    \n",
    "reversed_name(\"chayan kanti dev partha basak sayantan banerjee\")    "
   ]
  },
  {
   "cell_type": "code",
   "execution_count": 123,
   "metadata": {},
   "outputs": [
    {
     "data": {
      "text/plain": [
       "'eejrenab natnayas kasab ahtrap ved itnak nayahc'"
      ]
     },
     "execution_count": 123,
     "metadata": {},
     "output_type": "execute_result"
    }
   ],
   "source": [
    "\"chayan kanti dev partha basak sayantan banerjee\"[::-1]"
   ]
  },
  {
   "cell_type": "markdown",
   "metadata": {},
   "source": [
    "Question 3"
   ]
  },
  {
   "cell_type": "code",
   "execution_count": 51,
   "metadata": {},
   "outputs": [
    {
     "name": "stdout",
     "output_type": "stream",
     "text": [
      "904.7786842338603\n"
     ]
    }
   ],
   "source": [
    "import math\n",
    "diameter = 12\n",
    "volume = (4/3)*math.pi*(diameter/2)**3\n",
    "print(volume)"
   ]
  },
  {
   "cell_type": "markdown",
   "metadata": {},
   "source": [
    "# Task 2"
   ]
  },
  {
   "cell_type": "markdown",
   "metadata": {},
   "source": [
    "Question 1"
   ]
  },
  {
   "cell_type": "code",
   "execution_count": 56,
   "metadata": {},
   "outputs": [
    {
     "name": "stdout",
     "output_type": "stream",
     "text": [
      "Enter integers: 1,2,3\n"
     ]
    }
   ],
   "source": [
    "input_numbers = input (\"Enter integers: \")"
   ]
  },
  {
   "cell_type": "code",
   "execution_count": 75,
   "metadata": {},
   "outputs": [
    {
     "name": "stdout",
     "output_type": "stream",
     "text": [
      "[1, 2, 3]\n"
     ]
    }
   ],
   "source": [
    "input_numbers_splited = input_numbers.split(\",\")\n",
    "new_int_list = []\n",
    "for i in input_numbers_splited:\n",
    "    new_int_list.append(int(i))\n",
    "print(new_int_list)    "
   ]
  },
  {
   "cell_type": "markdown",
   "metadata": {},
   "source": [
    "Question 2"
   ]
  },
  {
   "cell_type": "code",
   "execution_count": 104,
   "metadata": {},
   "outputs": [
    {
     "name": "stdout",
     "output_type": "stream",
     "text": [
      "*\n",
      "**\n",
      "***\n",
      "****\n",
      "*****\n",
      "****\n",
      "***\n",
      "**\n",
      "*\n"
     ]
    }
   ],
   "source": [
    "x = 1\n",
    "mid = int(((len(range(0,9))+1)/2)-1)\n",
    "for i in range(0,9):\n",
    "    if i <= mid:\n",
    "        print(\"*\"*x)\n",
    "        x = x+1\n",
    "    else:\n",
    "        x = x-1\n",
    "        print(\"*\"*(x-1))\n"
   ]
  },
  {
   "cell_type": "markdown",
   "metadata": {},
   "source": [
    "Question 3"
   ]
  },
  {
   "cell_type": "code",
   "execution_count": 150,
   "metadata": {},
   "outputs": [
    {
     "name": "stdout",
     "output_type": "stream",
     "text": [
      "Type ypur word:name\n",
      "eman\n"
     ]
    }
   ],
   "source": [
    "word = input(\"Type ypur word:\")\n",
    "rev_word = word[::-1]\n",
    "print(rev_word)"
   ]
  },
  {
   "cell_type": "markdown",
   "metadata": {},
   "source": [
    "Question 4"
   ]
  },
  {
   "cell_type": "code",
   "execution_count": 133,
   "metadata": {},
   "outputs": [],
   "source": [
    "text = \"WE, THE PEOPLE OF INDIA, having solemnly resolved to constitute India into a SOVEREIGN SOCIALIST SECULAR DEMOCRATIC REPUBLIC and to secure to all its citizens\""
   ]
  },
  {
   "cell_type": "code",
   "execution_count": 149,
   "metadata": {},
   "outputs": [
    {
     "name": "stdout",
     "output_type": "stream",
     "text": [
      "WE, THE PEOPLE OF INDIA,\n",
      "\thaving solemnly resolved to constitute India into a SOVEREIGN !\n",
      "\t\tSOCIALIST SECULAR DEMOCRATIC REPUBLIC\n",
      "\t\t and to secure to all its citizens\n"
     ]
    }
   ],
   "source": [
    "print(text[:24]+\"\\n\"+\"\\t\"+text[25:87] + \"!\" +\"\\n\"+ \"\\t\"+\"\\t\"+text[87:124] + \"\\n\"+\"\\t\"+\"\\t\"+\" \"+text[-33:])"
   ]
  },
  {
   "cell_type": "code",
   "execution_count": null,
   "metadata": {},
   "outputs": [],
   "source": []
  },
  {
   "cell_type": "code",
   "execution_count": null,
   "metadata": {},
   "outputs": [],
   "source": []
  }
 ],
 "metadata": {
  "kernelspec": {
   "display_name": "Python 3",
   "language": "python",
   "name": "python3"
  },
  "language_info": {
   "codemirror_mode": {
    "name": "ipython",
    "version": 3
   },
   "file_extension": ".py",
   "mimetype": "text/x-python",
   "name": "python",
   "nbconvert_exporter": "python",
   "pygments_lexer": "ipython3",
   "version": "3.7.3"
  }
 },
 "nbformat": 4,
 "nbformat_minor": 2
}
